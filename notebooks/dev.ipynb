{
 "cells": [
  {
   "cell_type": "markdown",
   "metadata": {},
   "source": [
    "# Development notebook"
   ]
  },
  {
   "cell_type": "code",
   "execution_count": 1,
   "metadata": {},
   "outputs": [],
   "source": [
    "# https://ipython.org/ipython-doc/3/config/extensions/autoreload.html\n",
    "%load_ext autoreload\n",
    "%autoreload 2"
   ]
  },
  {
   "cell_type": "code",
   "execution_count": 2,
   "metadata": {},
   "outputs": [],
   "source": [
    "import sys\n",
    "sys.path.insert(0, \"../examples/train_on_cifar10/\")"
   ]
  },
  {
   "cell_type": "code",
   "execution_count": 12,
   "metadata": {},
   "outputs": [],
   "source": [
    "import torch\n",
    "from torch.optim import SGD\n",
    "from torch.nn import CrossEntropyLoss"
   ]
  },
  {
   "cell_type": "code",
   "execution_count": 7,
   "metadata": {},
   "outputs": [],
   "source": [
    "from small_vgg16_bn import get_small_vgg16_bn\n",
    "model = get_small_vgg16_bn(10)"
   ]
  },
  {
   "cell_type": "code",
   "execution_count": 5,
   "metadata": {},
   "outputs": [],
   "source": [
    "from train import get_data_loaders, train_data_transform, val_data_transform"
   ]
  },
  {
   "cell_type": "code",
   "execution_count": 10,
   "metadata": {},
   "outputs": [
    {
     "name": "stdout",
     "output_type": "stream",
     "text": [
      "Downloading https://www.cs.toronto.edu/~kriz/cifar-10-python.tar.gz to ../examples/train_on_cifar10/cifar-10-python.tar.gz\n"
     ]
    }
   ],
   "source": [
    "train_loader, val_loader = get_data_loaders(\"../examples/train_on_cifar10/\", train_data_transform, val_data_transform,\n",
    "                                            16, 16, num_workers=8, cuda=False)\n"
   ]
  },
  {
   "cell_type": "code",
   "execution_count": 16,
   "metadata": {},
   "outputs": [],
   "source": [
    "loss_fn = CrossEntropyLoss()\n",
    "optimizer = SGD(model.parameters(), lr=0.1)"
   ]
  },
  {
   "cell_type": "code",
   "execution_count": 19,
   "metadata": {},
   "outputs": [],
   "source": [
    "from ignite._utils import to_variable\n",
    "\n",
    "\n",
    "def _prepare_batch(batch):\n",
    "    x, y = batch\n",
    "    x = to_variable(x, cuda=False)\n",
    "    y = to_variable(y, cuda=False)\n",
    "    return x, y\n",
    "\n",
    "def _update(engine, batch):\n",
    "    model.train()\n",
    "    optimizer.zero_grad()\n",
    "    x, y = _prepare_batch(batch)\n",
    "    y_pred = model(x)\n",
    "    loss = loss_fn(y_pred, y)\n",
    "    loss.backward()\n",
    "    optimizer.step()\n",
    "    return loss"
   ]
  },
  {
   "cell_type": "code",
   "execution_count": 18,
   "metadata": {},
   "outputs": [
    {
     "data": {
      "text/plain": [
       "(2, torch.Size([16, 3, 32, 32]))"
      ]
     },
     "execution_count": 18,
     "metadata": {},
     "output_type": "execute_result"
    }
   ],
   "source": [
    "train_loader_iter = iter(train_loader)\n",
    "batch = next(train_loader_iter)\n",
    "len(batch), batch[0].shape"
   ]
  },
  {
   "cell_type": "code",
   "execution_count": 27,
   "metadata": {},
   "outputs": [
    {
     "data": {
      "text/plain": [
       "(58, torch.Size([64, 3, 3, 3]))"
      ]
     },
     "execution_count": 27,
     "metadata": {},
     "output_type": "execute_result"
    }
   ],
   "source": [
    "len(optimizer.param_groups[0]['params']), optimizer.param_groups[0]['params'][0].shape"
   ]
  },
  {
   "cell_type": "code",
   "execution_count": 29,
   "metadata": {},
   "outputs": [
    {
     "name": "stdout",
     "output_type": "stream",
     "text": [
      "momentum\n",
      "dampening\n",
      "params\n",
      "nesterov\n",
      "weight_decay\n",
      "lr\n"
     ]
    }
   ],
   "source": [
    "for k in optimizer.param_groups[0]:\n",
    "    print(k)"
   ]
  },
  {
   "cell_type": "code",
   "execution_count": null,
   "metadata": {},
   "outputs": [],
   "source": []
  },
  {
   "cell_type": "code",
   "execution_count": 39,
   "metadata": {},
   "outputs": [],
   "source": [
    "from torch.nn import Module, LSTM, Linear, Sequential, ReLU\n",
    "\n",
    "\n",
    "class ActorNetwork(Module):\n",
    "    \"\"\"Actor network or Policy\n",
    "    \"\"\"\n",
    "    \n",
    "    def __init__(self, input_dim, output_dim):\n",
    "        super(ActorNetwork, self).__init__()\n",
    "        self.lstm = LSTM(input_dim, 20, 2)\n",
    "\n",
    "        \n",
    "    def forward(self, state, hidden=None):\n",
    "        out, hidden = self.lstm(state, hidden)\n",
    "        return out, hidden\n",
    "    \n",
    "\n",
    "class CriticNetwork(Module):\n",
    "    \"\"\"Critic network or Q-function\n",
    "    \"\"\"\n",
    "    \n",
    "    def __init__(self, input_dim):\n",
    "        super(CriticNetwork, self).__init__()\n",
    "        self.q_fn = Sequential(\n",
    "            Linear(input_dim, 10),\n",
    "            ReLU(inplace=True)\n",
    "            Linear(10, 1)\n",
    "        )\n",
    "        \n",
    "    def forward(self, action, state):\n",
    "        x = torch.cat([action, state], dim=1)\n",
    "        reward = self.q_fn(x)\n",
    "        return reward"
   ]
  },
  {
   "cell_type": "code",
   "execution_count": null,
   "metadata": {},
   "outputs": [],
   "source": []
  },
  {
   "cell_type": "code",
   "execution_count": null,
   "metadata": {},
   "outputs": [],
   "source": [
    "actor_network = None"
   ]
  },
  {
   "cell_type": "code",
   "execution_count": 37,
   "metadata": {},
   "outputs": [],
   "source": [
    "from torch.autograd import Variable"
   ]
  },
  {
   "cell_type": "code",
   "execution_count": 38,
   "metadata": {},
   "outputs": [],
   "source": [
    "rnn = LSTM(10, 20, 2)\n",
    "x = Variable(torch.from(5, 3, 10))\n",
    "output, hn = rnn(x, None) "
   ]
  },
  {
   "cell_type": "code",
   "execution_count": null,
   "metadata": {},
   "outputs": [],
   "source": []
  },
  {
   "cell_type": "code",
   "execution_count": null,
   "metadata": {},
   "outputs": [],
   "source": []
  }
 ],
 "metadata": {
  "kernelspec": {
   "display_name": "Python 3",
   "language": "python",
   "name": "python3"
  },
  "language_info": {
   "codemirror_mode": {
    "name": "ipython",
    "version": 3
   },
   "file_extension": ".py",
   "mimetype": "text/x-python",
   "name": "python",
   "nbconvert_exporter": "python",
   "pygments_lexer": "ipython3",
   "version": "3.5.2"
  }
 },
 "nbformat": 4,
 "nbformat_minor": 2
}
